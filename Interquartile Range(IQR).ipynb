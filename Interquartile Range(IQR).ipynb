{
 "cells": [
  {
   "cell_type": "markdown",
   "id": "c3704fb6",
   "metadata": {},
   "source": [
    "# Interquartile Range (IQR)"
   ]
  },
  {
   "cell_type": "markdown",
   "id": "6b7666a3",
   "metadata": {},
   "source": [
    "# For odd dataset "
   ]
  },
  {
   "cell_type": "code",
   "execution_count": 55,
   "id": "c8c0478b",
   "metadata": {},
   "outputs": [],
   "source": [
    "dataset = [2,5,8,12,23,10,4,7,6]"
   ]
  },
  {
   "cell_type": "code",
   "execution_count": 56,
   "id": "880f539d",
   "metadata": {},
   "outputs": [
    {
     "data": {
      "text/plain": [
       "[2, 5, 8, 12, 23, 10, 4, 7, 6]"
      ]
     },
     "execution_count": 56,
     "metadata": {},
     "output_type": "execute_result"
    }
   ],
   "source": [
    "dataset"
   ]
  },
  {
   "cell_type": "code",
   "execution_count": 57,
   "id": "a6b46104",
   "metadata": {},
   "outputs": [],
   "source": [
    "# It is an odd dataset ( in bangla it is called 'bejore')\n",
    "\n",
    "# In odd dataset it is easy to find out the 'median' (middle number)\n",
    "\n",
    "# left part(Lower Part) = 50% data\n",
    "\n",
    "# Right part(Upper Part) = 50% data\n",
    "\n"
   ]
  },
  {
   "cell_type": "code",
   "execution_count": 58,
   "id": "ee298494",
   "metadata": {},
   "outputs": [],
   "source": [
    "# dataset = [2,4,5,6,7(median),8,10,12,23] # After asscending"
   ]
  },
  {
   "cell_type": "code",
   "execution_count": 59,
   "id": "3da218ec",
   "metadata": {},
   "outputs": [],
   "source": [
    "# Both part will get median point\n",
    "\n",
    "# Lower_Part = [2,4,5(median),6,7]\n",
    "# Upper_Part = [7,8,10(median),12,23]"
   ]
  },
  {
   "cell_type": "code",
   "execution_count": 60,
   "id": "b82a87fb",
   "metadata": {},
   "outputs": [],
   "source": [
    "import numpy as np"
   ]
  },
  {
   "cell_type": "code",
   "execution_count": 61,
   "id": "2c9a3d6a",
   "metadata": {},
   "outputs": [],
   "source": [
    "## make a dataset into 3 parts, Q1, Q2, Q3\n",
    "\n",
    "# for Q1 = 25%\n",
    "\n",
    "# for Q2 = 50%\n",
    "\n",
    "# for Q3 = 75%\n"
   ]
  },
  {
   "cell_type": "code",
   "execution_count": 62,
   "id": "e60fa5c6",
   "metadata": {},
   "outputs": [],
   "source": [
    "Q1 = 5\n",
    "\n",
    "Q2 = 7\n",
    "\n",
    "Q3 = 10"
   ]
  },
  {
   "cell_type": "code",
   "execution_count": 63,
   "id": "be28cfbd",
   "metadata": {},
   "outputs": [],
   "source": [
    "# Find Out Q1\n",
    "\n",
    "Q1 = np.percentile(dataset, 25)"
   ]
  },
  {
   "cell_type": "code",
   "execution_count": 64,
   "id": "15f1ac46",
   "metadata": {},
   "outputs": [
    {
     "data": {
      "text/plain": [
       "5.0"
      ]
     },
     "execution_count": 64,
     "metadata": {},
     "output_type": "execute_result"
    }
   ],
   "source": [
    "Q1"
   ]
  },
  {
   "cell_type": "code",
   "execution_count": 65,
   "id": "992758fa",
   "metadata": {},
   "outputs": [
    {
     "data": {
      "text/plain": [
       "numpy.float64"
      ]
     },
     "execution_count": 65,
     "metadata": {},
     "output_type": "execute_result"
    }
   ],
   "source": [
    "type(Q1)"
   ]
  },
  {
   "cell_type": "code",
   "execution_count": 66,
   "id": "05162478",
   "metadata": {},
   "outputs": [],
   "source": [
    "# Find Out Q2\n",
    "\n",
    "Q2 = np.percentile(dataset, 50)"
   ]
  },
  {
   "cell_type": "code",
   "execution_count": 67,
   "id": "325c31ba",
   "metadata": {},
   "outputs": [
    {
     "data": {
      "text/plain": [
       "7.0"
      ]
     },
     "execution_count": 67,
     "metadata": {},
     "output_type": "execute_result"
    }
   ],
   "source": [
    "Q2"
   ]
  },
  {
   "cell_type": "code",
   "execution_count": 68,
   "id": "3dc90aba",
   "metadata": {},
   "outputs": [],
   "source": [
    "# Find Out Q3\n",
    "\n",
    "Q3 = np.percentile(dataset, 75)"
   ]
  },
  {
   "cell_type": "code",
   "execution_count": 69,
   "id": "76ad38c7",
   "metadata": {},
   "outputs": [
    {
     "data": {
      "text/plain": [
       "10.0"
      ]
     },
     "execution_count": 69,
     "metadata": {},
     "output_type": "execute_result"
    }
   ],
   "source": [
    "Q3"
   ]
  },
  {
   "cell_type": "markdown",
   "id": "6daf3429",
   "metadata": {},
   "source": [
    "# Find out Inter Quartile Range (IQR)"
   ]
  },
  {
   "cell_type": "code",
   "execution_count": 70,
   "id": "046b55bf",
   "metadata": {},
   "outputs": [],
   "source": [
    "IQR = Q3 - Q1"
   ]
  },
  {
   "cell_type": "code",
   "execution_count": 71,
   "id": "e42d5fca",
   "metadata": {},
   "outputs": [
    {
     "data": {
      "text/plain": [
       "5.0"
      ]
     },
     "execution_count": 71,
     "metadata": {},
     "output_type": "execute_result"
    }
   ],
   "source": [
    "IQR"
   ]
  },
  {
   "cell_type": "markdown",
   "id": "539f3910",
   "metadata": {},
   "source": [
    "# For even dataset"
   ]
  },
  {
   "cell_type": "code",
   "execution_count": 43,
   "id": "35cbe185",
   "metadata": {},
   "outputs": [],
   "source": [
    "\n",
    "dataset1 = [2,5,8,12,23,10,4,7,6,14]\n",
    "\n",
    "# dataset1 = [2,4,5,6,7,8,10,12,14,23] # After asscending"
   ]
  },
  {
   "cell_type": "code",
   "execution_count": 44,
   "id": "f0e66592",
   "metadata": {},
   "outputs": [
    {
     "data": {
      "text/plain": [
       "[2, 5, 8, 12, 23, 10, 4, 7, 6, 14]"
      ]
     },
     "execution_count": 44,
     "metadata": {},
     "output_type": "execute_result"
    }
   ],
   "source": [
    "dataset1"
   ]
  },
  {
   "cell_type": "code",
   "execution_count": 45,
   "id": "e33e58fa",
   "metadata": {},
   "outputs": [],
   "source": [
    "# Both part will get median point\n",
    "\n",
    "# middle 2 numbers 7 ,8\n",
    "\n",
    "# (7 + 8)/2 = 7.5\n",
    "\n",
    "# median point = 7.5\n",
    "\n",
    "# Between 7,8 numbers, lower part will get first one(7), upper part second one(8)\n",
    "\n",
    "# Lower_Part = [2,4,5,6,7]\n",
    "# Upper_Part = [8,10,12,14,23]"
   ]
  },
  {
   "cell_type": "code",
   "execution_count": 46,
   "id": "af787a49",
   "metadata": {},
   "outputs": [],
   "source": [
    "import numpy as np "
   ]
  },
  {
   "cell_type": "code",
   "execution_count": 47,
   "id": "5ef33469",
   "metadata": {},
   "outputs": [],
   "source": [
    "_Q1 = np.percentile(dataset1, 25)"
   ]
  },
  {
   "cell_type": "code",
   "execution_count": 48,
   "id": "e437d063",
   "metadata": {},
   "outputs": [
    {
     "name": "stdout",
     "output_type": "stream",
     "text": [
      "Value of Q1 = 5.25\n"
     ]
    }
   ],
   "source": [
    "print('Value of Q1 =', _Q1)"
   ]
  },
  {
   "cell_type": "code",
   "execution_count": 49,
   "id": "7d9cf4e1",
   "metadata": {},
   "outputs": [],
   "source": [
    "_Q2 = np.percentile(dataset1, 50)"
   ]
  },
  {
   "cell_type": "code",
   "execution_count": 50,
   "id": "c641540e",
   "metadata": {},
   "outputs": [
    {
     "name": "stdout",
     "output_type": "stream",
     "text": [
      "Value of Q2 = 7.5\n"
     ]
    }
   ],
   "source": [
    "print('Value of Q2 =', _Q2)"
   ]
  },
  {
   "cell_type": "code",
   "execution_count": 51,
   "id": "e12004f5",
   "metadata": {},
   "outputs": [],
   "source": [
    "_Q3 = np.percentile(dataset1, 75)"
   ]
  },
  {
   "cell_type": "code",
   "execution_count": 52,
   "id": "ced35d65",
   "metadata": {},
   "outputs": [
    {
     "name": "stdout",
     "output_type": "stream",
     "text": [
      "Value of Q3 = 11.5\n"
     ]
    }
   ],
   "source": [
    "print('Value of Q3 =', _Q3)"
   ]
  },
  {
   "cell_type": "markdown",
   "id": "22f52443",
   "metadata": {},
   "source": [
    "# Find out Inter Quartile Range (IQR)"
   ]
  },
  {
   "cell_type": "code",
   "execution_count": 53,
   "id": "dc12cfff",
   "metadata": {},
   "outputs": [],
   "source": [
    "IQR_1 = _Q3 - _Q1"
   ]
  },
  {
   "cell_type": "code",
   "execution_count": 54,
   "id": "ab69912f",
   "metadata": {},
   "outputs": [
    {
     "name": "stdout",
     "output_type": "stream",
     "text": [
      "IQR Value is = 6.25\n"
     ]
    }
   ],
   "source": [
    "print('IQR Value is =', IQR_1)"
   ]
  },
  {
   "cell_type": "code",
   "execution_count": null,
   "id": "6f112b13",
   "metadata": {},
   "outputs": [],
   "source": []
  }
 ],
 "metadata": {
  "kernelspec": {
   "display_name": "Python 3",
   "language": "python",
   "name": "python3"
  },
  "language_info": {
   "codemirror_mode": {
    "name": "ipython",
    "version": 3
   },
   "file_extension": ".py",
   "mimetype": "text/x-python",
   "name": "python",
   "nbconvert_exporter": "python",
   "pygments_lexer": "ipython3",
   "version": "3.8.8"
  }
 },
 "nbformat": 4,
 "nbformat_minor": 5
}
